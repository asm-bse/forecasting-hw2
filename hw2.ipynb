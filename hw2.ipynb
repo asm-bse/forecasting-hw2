{
 "cells": [
  {
   "cell_type": "markdown",
   "metadata": {},
   "source": [
    "# Climate Claim Classification: Zero-Shot vs. Few-Shot Learning\n",
    "\n",
    "This notebook demonstrates and compares two advanced Natural Language Processing (NLP) paradigms – **Zero-Shot Learning (ZSL)** and **Few-Shot Learning (FSL)** – for the task of classifying climate-related claims. \n",
    "\n",
    "The goal is to distinguish between claims that are 'related' to climate change and those that are 'not_related'.\n",
    "\n",
    "\n",
    "## Table of Contents\n",
    "1.  [Data Loading and Preparation](#1.-Data-Loading-and-Preparation)\n",
    "2.  [Zero-Shot Learning (ZSL) with NLI](#2.-Zero-Shot-Learning-(ZSL)-with-NLI)\n",
    "3.  [Few-Shot Learning (FSL) with SetFit](#3.-Few-Shot-Learning-(FSL)-with-SetFit)\n",
    "4.  [Visualization: Confusion Matrices](#4.-Visualization:-Confusion-Matrices)"
   ]
  },
  {
   "cell_type": "code",
   "execution_count": 1,
   "metadata": {},
   "outputs": [],
   "source": [
    "import pandas as pd\n",
    "from datasets import load_dataset, Dataset\n",
    "from sklearn.metrics import classification_report, confusion_matrix\n",
    "import matplotlib.pyplot as plt\n",
    "import seaborn as sns\n",
    "from transformers import pipeline\n",
    "from setfit import SetFitModel, SetFitTrainer, sample_dataset"
   ]
  },
  {
   "cell_type": "markdown",
   "metadata": {},
   "source": [
    "## 1. Data Loading and Preparation"
   ]
  },
  {
   "cell_type": "code",
   "execution_count": 2,
   "metadata": {},
   "outputs": [
    {
     "name": "stdout",
     "output_type": "stream",
     "text": [
      "Loading 'mwong/climate-claim-related' dataset...\n",
      "Actual labels in the full dataset: ['not_related' 'related']\n",
      "Dataset loaded. Test set size: 300\n",
      "Training pool size: 11980\n"
     ]
    }
   ],
   "source": [
    "# --- 1. Load and Prepare Dataset ---\n",
    "print(\"Loading 'mwong/climate-claim-related' dataset...\")\n",
    "dataset = load_dataset(\"mwong/climate-claim-related\")\n",
    "full_dataset = dataset['train']\n",
    "\n",
    "\n",
    "# Define label mapping for the identified classes\n",
    "labels_map = {0: 'related', 1: 'not_related'}\n",
    "candidate_labels = list(labels_map.values())\n",
    "\n",
    "df = full_dataset.to_pandas()\n",
    "df['label_name'] = df['labels'].map(labels_map)\n",
    "\n",
    "print(\"Actual labels in the full dataset:\", df['label_name'].unique())\n",
    "\n",
    "# --- Create Test Set and Training Pool (Stratified Sampling) ---\n",
    "# We create a stratified test set to ensure balanced representation of each class.\n",
    "# For each unique label, we sample up to 150 instances (or fewer if not enough are available).\n",
    "sampled_dfs = []\n",
    "for label in df['label_name'].unique():\n",
    "    group = df[df['label_name'] == label]\n",
    "    sample_size = min(len(group), 150)\n",
    "    sampled_dfs.append(group.sample(n=sample_size, random_state=42))\n",
    "\n",
    "test_df = pd.concat(sampled_dfs)\n",
    "\n",
    "# Extract claims and true labels for the test set\n",
    "test_claims = test_df['claim'].tolist()\n",
    "y_true = test_df['label_name'].tolist()\n",
    "\n",
    "# The remaining data forms our training pool for Few-Shot Learning\n",
    "train_df = df.drop(test_df.index)\n",
    "\n",
    "print(f\"Dataset loaded. Test set size: {len(test_df)}\")\n",
    "print(f\"Training pool size: {len(train_df)}\")"
   ]
  },
  {
   "cell_type": "markdown",
   "metadata": {},
   "source": [
    "## 2. Zero-Shot Learning (ZSL) with NLI"
   ]
  },
  {
   "cell_type": "code",
   "execution_count": 3,
   "metadata": {},
   "outputs": [
    {
     "name": "stdout",
     "output_type": "stream",
     "text": [
      "Running Zero-Shot Learning classification...\n"
     ]
    },
    {
     "name": "stderr",
     "output_type": "stream",
     "text": [
      "Device set to use mps:0\n"
     ]
    },
    {
     "name": "stdout",
     "output_type": "stream",
     "text": [
      "\n",
      "--- Zero-Shot Learning Results ---\n",
      "              precision    recall  f1-score   support\n",
      "\n",
      "     related       0.51      1.00      0.67       150\n",
      " not_related       1.00      0.02      0.04       150\n",
      "\n",
      "    accuracy                           0.51       300\n",
      "   macro avg       0.75      0.51      0.36       300\n",
      "weighted avg       0.75      0.51      0.36       300\n",
      "\n"
     ]
    }
   ],
   "source": [
    "print(\"Running Zero-Shot Learning classification...\")\n",
    "zsl_classifier = pipeline(\"zero-shot-classification\", model=\"facebook/bart-large-mnli\")\n",
    "\n",
    "zsl_preds_raw = zsl_classifier(test_claims, candidate_labels=candidate_labels, multi_label=False)\n",
    "y_pred_zsl = [pred['labels'][0] for pred in zsl_preds_raw]\n",
    "\n",
    "print(\"\\n--- Zero-Shot Learning Results ---\")\n",
    "print(classification_report(y_true, y_pred_zsl, labels=candidate_labels))"
   ]
  },
  {
   "cell_type": "markdown",
   "metadata": {},
   "source": [
    "## 3. Few-Shot Learning (FSL) with SetFit"
   ]
  },
  {
   "cell_type": "code",
   "execution_count": 4,
   "metadata": {},
   "outputs": [
    {
     "name": "stdout",
     "output_type": "stream",
     "text": [
      "\n",
      "Running Few-Shot Learning classification...\n"
     ]
    },
    {
     "name": "stderr",
     "output_type": "stream",
     "text": [
      "model_head.pkl not found on HuggingFace Hub, initialising classification head with random weights. You should TRAIN this model on a downstream task to use it for predictions and inference.\n",
      "/var/folders/vd/tdjtsvvd6n9570nygscfprww0000gn/T/ipykernel_81189/386021113.py:14: DeprecationWarning: `SetFitTrainer` has been deprecated and will be removed in v2.0.0 of SetFit. Please use `Trainer` instead.\n",
      "  trainer = SetFitTrainer(\n"
     ]
    },
    {
     "data": {
      "application/vnd.jupyter.widget-view+json": {
       "model_id": "ecb5a827b608460396956dd55e7da395",
       "version_major": 2,
       "version_minor": 0
      },
      "text/plain": [
       "Map:   0%|          | 0/16 [00:00<?, ? examples/s]"
      ]
     },
     "metadata": {},
     "output_type": "display_data"
    },
    {
     "name": "stderr",
     "output_type": "stream",
     "text": [
      "***** Running training *****\n",
      "  Num unique pairs = 3200\n",
      "  Batch size = 8\n",
      "  Num epochs = 5\n",
      "/Users/alexmolin/dsdm/forecasting_and_nowcasting/hw2/.venv/lib/python3.11/site-packages/torch/utils/data/dataloader.py:683: UserWarning: 'pin_memory' argument is set as true but not supported on MPS now, then device pinned memory won't be used.\n",
      "  warnings.warn(warn_msg)\n"
     ]
    },
    {
     "data": {
      "text/html": [
       "\n",
       "    <div>\n",
       "      \n",
       "      <progress value='2000' max='2000' style='width:300px; height:20px; vertical-align: middle;'></progress>\n",
       "      [2000/2000 02:24, Epoch 5/5]\n",
       "    </div>\n",
       "    <table border=\"1\" class=\"dataframe\">\n",
       "  <thead>\n",
       " <tr style=\"text-align: left;\">\n",
       "      <th>Step</th>\n",
       "      <th>Training Loss</th>\n",
       "    </tr>\n",
       "  </thead>\n",
       "  <tbody>\n",
       "    <tr>\n",
       "      <td>1</td>\n",
       "      <td>0.375700</td>\n",
       "    </tr>\n",
       "    <tr>\n",
       "      <td>50</td>\n",
       "      <td>0.274400</td>\n",
       "    </tr>\n",
       "    <tr>\n",
       "      <td>100</td>\n",
       "      <td>0.234500</td>\n",
       "    </tr>\n",
       "    <tr>\n",
       "      <td>150</td>\n",
       "      <td>0.159900</td>\n",
       "    </tr>\n",
       "    <tr>\n",
       "      <td>200</td>\n",
       "      <td>0.024400</td>\n",
       "    </tr>\n",
       "    <tr>\n",
       "      <td>250</td>\n",
       "      <td>0.003400</td>\n",
       "    </tr>\n",
       "    <tr>\n",
       "      <td>300</td>\n",
       "      <td>0.002200</td>\n",
       "    </tr>\n",
       "    <tr>\n",
       "      <td>350</td>\n",
       "      <td>0.001700</td>\n",
       "    </tr>\n",
       "    <tr>\n",
       "      <td>400</td>\n",
       "      <td>0.001200</td>\n",
       "    </tr>\n",
       "    <tr>\n",
       "      <td>450</td>\n",
       "      <td>0.001000</td>\n",
       "    </tr>\n",
       "    <tr>\n",
       "      <td>500</td>\n",
       "      <td>0.000900</td>\n",
       "    </tr>\n",
       "    <tr>\n",
       "      <td>550</td>\n",
       "      <td>0.000700</td>\n",
       "    </tr>\n",
       "    <tr>\n",
       "      <td>600</td>\n",
       "      <td>0.000600</td>\n",
       "    </tr>\n",
       "    <tr>\n",
       "      <td>650</td>\n",
       "      <td>0.000500</td>\n",
       "    </tr>\n",
       "    <tr>\n",
       "      <td>700</td>\n",
       "      <td>0.000600</td>\n",
       "    </tr>\n",
       "    <tr>\n",
       "      <td>750</td>\n",
       "      <td>0.000500</td>\n",
       "    </tr>\n",
       "    <tr>\n",
       "      <td>800</td>\n",
       "      <td>0.000400</td>\n",
       "    </tr>\n",
       "    <tr>\n",
       "      <td>850</td>\n",
       "      <td>0.000300</td>\n",
       "    </tr>\n",
       "    <tr>\n",
       "      <td>900</td>\n",
       "      <td>0.000300</td>\n",
       "    </tr>\n",
       "    <tr>\n",
       "      <td>950</td>\n",
       "      <td>0.000300</td>\n",
       "    </tr>\n",
       "    <tr>\n",
       "      <td>1000</td>\n",
       "      <td>0.000300</td>\n",
       "    </tr>\n",
       "    <tr>\n",
       "      <td>1050</td>\n",
       "      <td>0.000300</td>\n",
       "    </tr>\n",
       "    <tr>\n",
       "      <td>1100</td>\n",
       "      <td>0.000200</td>\n",
       "    </tr>\n",
       "    <tr>\n",
       "      <td>1150</td>\n",
       "      <td>0.000200</td>\n",
       "    </tr>\n",
       "    <tr>\n",
       "      <td>1200</td>\n",
       "      <td>0.000200</td>\n",
       "    </tr>\n",
       "    <tr>\n",
       "      <td>1250</td>\n",
       "      <td>0.000200</td>\n",
       "    </tr>\n",
       "    <tr>\n",
       "      <td>1300</td>\n",
       "      <td>0.000200</td>\n",
       "    </tr>\n",
       "    <tr>\n",
       "      <td>1350</td>\n",
       "      <td>0.000200</td>\n",
       "    </tr>\n",
       "    <tr>\n",
       "      <td>1400</td>\n",
       "      <td>0.000200</td>\n",
       "    </tr>\n",
       "    <tr>\n",
       "      <td>1450</td>\n",
       "      <td>0.000200</td>\n",
       "    </tr>\n",
       "    <tr>\n",
       "      <td>1500</td>\n",
       "      <td>0.000200</td>\n",
       "    </tr>\n",
       "    <tr>\n",
       "      <td>1550</td>\n",
       "      <td>0.000200</td>\n",
       "    </tr>\n",
       "    <tr>\n",
       "      <td>1600</td>\n",
       "      <td>0.000100</td>\n",
       "    </tr>\n",
       "    <tr>\n",
       "      <td>1650</td>\n",
       "      <td>0.000100</td>\n",
       "    </tr>\n",
       "    <tr>\n",
       "      <td>1700</td>\n",
       "      <td>0.000100</td>\n",
       "    </tr>\n",
       "    <tr>\n",
       "      <td>1750</td>\n",
       "      <td>0.000100</td>\n",
       "    </tr>\n",
       "    <tr>\n",
       "      <td>1800</td>\n",
       "      <td>0.000100</td>\n",
       "    </tr>\n",
       "    <tr>\n",
       "      <td>1850</td>\n",
       "      <td>0.000100</td>\n",
       "    </tr>\n",
       "    <tr>\n",
       "      <td>1900</td>\n",
       "      <td>0.000100</td>\n",
       "    </tr>\n",
       "    <tr>\n",
       "      <td>1950</td>\n",
       "      <td>0.000100</td>\n",
       "    </tr>\n",
       "    <tr>\n",
       "      <td>2000</td>\n",
       "      <td>0.000100</td>\n",
       "    </tr>\n",
       "  </tbody>\n",
       "</table><p>"
      ],
      "text/plain": [
       "<IPython.core.display.HTML object>"
      ]
     },
     "metadata": {},
     "output_type": "display_data"
    },
    {
     "name": "stderr",
     "output_type": "stream",
     "text": [
      "/Users/alexmolin/dsdm/forecasting_and_nowcasting/hw2/.venv/lib/python3.11/site-packages/torch/utils/data/dataloader.py:683: UserWarning: 'pin_memory' argument is set as true but not supported on MPS now, then device pinned memory won't be used.\n",
      "  warnings.warn(warn_msg)\n",
      "/Users/alexmolin/dsdm/forecasting_and_nowcasting/hw2/.venv/lib/python3.11/site-packages/torch/utils/data/dataloader.py:683: UserWarning: 'pin_memory' argument is set as true but not supported on MPS now, then device pinned memory won't be used.\n",
      "  warnings.warn(warn_msg)\n",
      "/Users/alexmolin/dsdm/forecasting_and_nowcasting/hw2/.venv/lib/python3.11/site-packages/torch/utils/data/dataloader.py:683: UserWarning: 'pin_memory' argument is set as true but not supported on MPS now, then device pinned memory won't be used.\n",
      "  warnings.warn(warn_msg)\n"
     ]
    },
    {
     "name": "stdout",
     "output_type": "stream",
     "text": [
      "\n",
      "--- Few-Shot Learning (8-shot) Results ---\n",
      "              precision    recall  f1-score   support\n",
      "\n",
      "     related       0.53      0.82      0.64       150\n",
      " not_related       0.59      0.26      0.36       150\n",
      "\n",
      "    accuracy                           0.54       300\n",
      "   macro avg       0.56      0.54      0.50       300\n",
      "weighted avg       0.56      0.54      0.50       300\n",
      "\n"
     ]
    }
   ],
   "source": [
    "print(\"\\nRunning Few-Shot Learning classification...\")\n",
    "\n",
    "# Prepare data for SetFit: it expects columns 'text' and 'label'.\n",
    "train_df_for_fsl = train_df.rename(columns={'claim': 'text', 'labels': 'label'})\n",
    "train_dataset_for_fsl = Dataset.from_pandas(train_df_for_fsl[['text', 'label']])\n",
    "\n",
    "# Sample 8 examples per class for training the SetFit model\n",
    "train_dataset_8shot = sample_dataset(train_dataset_for_fsl, label_column=\"label\", num_samples=8)\n",
    "\n",
    "# Load a pre-trained Sentence Transformer model as the base for SetFit\n",
    "fsl_model = SetFitModel.from_pretrained(\"sentence-transformers/all-MiniLM-L6-v2\")\n",
    "\n",
    "# Initialize the SetFit trainer\n",
    "trainer = SetFitTrainer(\n",
    "    model=fsl_model,\n",
    "    train_dataset=train_dataset_8shot,\n",
    "    metric=\"accuracy\",\n",
    "    batch_size=8,\n",
    "    num_iterations=100,\n",
    "    num_epochs=5\n",
    ")\n",
    "\n",
    "# Train the SetFit model\n",
    "trainer.train()\n",
    "\n",
    "# Make predictions on the test set\n",
    "fsl_predictions_numeric = trainer.model.predict(test_claims)\n",
    "\n",
    "# Convert tensor predictions to integers before mapping back to label names\n",
    "y_pred_fsl = [labels_map[label.item()] for label in fsl_predictions_numeric]\n",
    "\n",
    "print(\"\\n--- Few-Shot Learning (8-shot) Results ---\")\n",
    "print(classification_report(y_true, y_pred_fsl, labels=candidate_labels))"
   ]
  },
  {
   "cell_type": "markdown",
   "metadata": {},
   "source": [
    "## 4. Visualization: Confusion Matrices"
   ]
  },
  {
   "cell_type": "code",
   "execution_count": 5,
   "metadata": {},
   "outputs": [
    {
     "name": "stdout",
     "output_type": "stream",
     "text": [
      "\n",
      "Generating confusion matrices...\n"
     ]
    },
    {
     "data": {
      "image/png": "[encoded data removed]",
      "text/plain": [
       "<Figure size 800x600 with 2 Axes>"
      ]
     },
     "metadata": {},
     "output_type": "display_data"
    },
    {
     "data": {
      "image/png": "[encoded data removed]",
      "text/plain": [
       "<Figure size 800x600 with 2 Axes>"
      ]
     },
     "metadata": {},
     "output_type": "display_data"
    }
   ],
   "source": [
    "# Function to plot a confusion matrix\n",
    "def plot_confusion_matrix(y_true, y_pred, title, labels):\n",
    "    cm = confusion_matrix(y_true, y_pred, labels=labels)\n",
    "    plt.figure(figsize=(8, 6))\n",
    "    sns.heatmap(cm, annot=True, fmt='d', cmap='Blues',\n",
    "                xticklabels=labels, yticklabels=labels)\n",
    "    plt.xlabel('Predicted Label')\n",
    "    plt.ylabel('True Label')\n",
    "    plt.title(title)\n",
    "    plt.show()\n",
    "\n",
    "print(\"\\nGenerating confusion matrices...\")\n",
    "\n",
    "# Generate confusion matrix for Zero-Shot Learning\n",
    "plot_confusion_matrix(y_true, y_pred_zsl,\n",
    "                      title='Zero-Shot (NLI) Confusion Matrix',\n",
    "                      labels=candidate_labels)\n",
    "\n",
    "# Generate confusion matrix for Few-Shot Learning\n",
    "plot_confusion_matrix(y_true, y_pred_fsl,\n",
    "                      title='Few-Shot (SetFit, 8-shot) Confusion Matrix',\n",
    "                      labels=candidate_labels)"
   ]
  }
 ],
 "metadata": {
  "kernelspec": {
   "display_name": ".venv",
   "language": "python",
   "name": "python3"
  },
  "language_info": {
   "codemirror_mode": {
    "name": "ipython",
    "version": 3
   },
   "file_extension": ".py",
   "mimetype": "text/x-python",
   "name": "python",
   "nbconvert_exporter": "python",
   "pygments_lexer": "ipython3",
   "version": "3.11.12"
  }
 },
 "nbformat": 4,
 "nbformat_minor": 4
}
